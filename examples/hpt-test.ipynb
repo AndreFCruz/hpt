{
 "cells": [
  {
   "cell_type": "code",
   "execution_count": 11,
   "id": "a95a574f",
   "metadata": {},
   "outputs": [],
   "source": [
    "import numpy as np\n",
    "\n",
    "N_SAMPLES = int(10**2)\n",
    "RANDOM_SEED = 42\n",
    "\n",
    "rng = np.random.RandomState(RANDOM_SEED)"
   ]
  },
  {
   "cell_type": "code",
   "execution_count": 12,
   "id": "3519f246",
   "metadata": {},
   "outputs": [],
   "source": [
    "from sklearn.datasets import make_classification\n",
    "\n",
    "def generate_data(num_samples, prevalence=0.5, sensitive_prevalence=0.1, random_seed=42):\n",
    "    \n",
    "    # Generate features and labels with scikit-learn\n",
    "    X, Y = make_classification(num_samples, weights=(1-prevalence, prevalence), random_state=random_seed)\n",
    "    \n",
    "    # Sensitive attrs\n",
    "    rng = np.random.RandomState(random_seed)\n",
    "    S = (rng.random(num_samples) + sensitive_prevalence).astype(int)\n",
    "\n",
    "    return X, Y, S"
   ]
  },
  {
   "cell_type": "code",
   "execution_count": 13,
   "id": "c733ef96",
   "metadata": {},
   "outputs": [],
   "source": [
    "X, Y, S = generate_data(num_samples=N_SAMPLES, random_seed=rng.randint(10**10))"
   ]
  },
  {
   "cell_type": "code",
   "execution_count": 14,
   "id": "a577cc23",
   "metadata": {},
   "outputs": [],
   "source": [
    "# Split train, test\n",
    "test_size = 0.2\n",
    "\n",
    "indices = rng.permutation(N_SAMPLES)\n",
    "test_indices = indices[: int(test_size * N_SAMPLES)]\n",
    "train_indices = indices[int(test_size * N_SAMPLES): ]\n",
    "\n",
    "X_train, y_train, s_train = X[train_indices], Y[train_indices], S[train_indices]\n",
    "X_test, y_test, s_test = X[test_indices], Y[test_indices], S[test_indices]"
   ]
  },
  {
   "cell_type": "markdown",
   "id": "bef3a427",
   "metadata": {},
   "source": [
    "# Use hpt package to train models"
   ]
  },
  {
   "cell_type": "code",
   "execution_count": 15,
   "id": "ab0a7917",
   "metadata": {},
   "outputs": [],
   "source": [
    "from pathlib import Path\n",
    "HYPERPARAM_SPACE_PATH = Path() / 'hyperparameter_spaces'\n",
    "HYPERPARAM_SPACE_PATH = HYPERPARAM_SPACE_PATH / 'sklearn.multiple_algorithms.yaml'"
   ]
  },
  {
   "cell_type": "code",
   "execution_count": 16,
   "id": "70c9f6b5",
   "metadata": {},
   "outputs": [
    {
     "name": "stderr",
     "output_type": "stream",
     "text": [
      "\u001b[32m[I 2022-11-30 13:07:46,494]\u001b[0m A new study created in memory with name: no-name-1e32ac73-b846-4b53-9018-2478c851214c\u001b[0m\n"
     ]
    }
   ],
   "source": [
    "from hpt.tuner import ObjectiveFunction, OptunaTuner\n",
    "\n",
    "obj_func = ObjectiveFunction(\n",
    "    X_train, y_train, X_test, y_test,\n",
    "    hyperparameter_space=HYPERPARAM_SPACE_PATH,\n",
    "    eval_metric='accuracy',\n",
    "    s_train=s_train,\n",
    "    s_val=s_test,\n",
    "    tpr=0.50,\n",
    "    #threshold=0.50,\n",
    ")\n",
    "\n",
    "tuner = OptunaTuner(obj_func) # NOTE: can pass other useful study kwargs here (e.g. storage)"
   ]
  },
  {
   "cell_type": "code",
   "execution_count": 17,
   "id": "b5e7d239",
   "metadata": {
    "scrolled": false
   },
   "outputs": [
    {
     "name": "stdout",
     "output_type": "stream",
     "text": [
      "> \u001b[0;32m/Users/acruz/Documents/hpt/src/hpt/evaluation.py\u001b[0m(232)\u001b[0;36mcompute_binary_predictions\u001b[0;34m()\u001b[0m\n",
      "\u001b[0;32m    231 \u001b[0;31m    \u001b[0;31m# TODO: https://github.com/AndreFCruz/hpt/issues/1\u001b[0m\u001b[0;34m\u001b[0m\u001b[0;34m\u001b[0m\u001b[0;34m\u001b[0m\u001b[0m\n",
      "\u001b[0m\u001b[0;32m--> 232 \u001b[0;31m    \u001b[0my_pred_binary\u001b[0m \u001b[0;34m=\u001b[0m \u001b[0;34m(\u001b[0m\u001b[0my_pred_scores\u001b[0m \u001b[0;34m>=\u001b[0m \u001b[0mthreshold\u001b[0m\u001b[0;34m)\u001b[0m\u001b[0;34m.\u001b[0m\u001b[0mastype\u001b[0m\u001b[0;34m(\u001b[0m\u001b[0mint\u001b[0m\u001b[0;34m)\u001b[0m\u001b[0;34m\u001b[0m\u001b[0;34m\u001b[0m\u001b[0m\n",
      "\u001b[0m\u001b[0;32m    233 \u001b[0;31m\u001b[0;34m\u001b[0m\u001b[0m\n",
      "\u001b[0m\n",
      "ipdb> n\n",
      "> \u001b[0;32m/Users/acruz/Documents/hpt/src/hpt/evaluation.py\u001b[0m(235)\u001b[0;36mcompute_binary_predictions\u001b[0;34m()\u001b[0m\n",
      "\u001b[0;32m    234 \u001b[0;31m    \u001b[0;31m# 1. compute actual number of positive predictions (on relevant target samples)\u001b[0m\u001b[0;34m\u001b[0m\u001b[0;34m\u001b[0m\u001b[0;34m\u001b[0m\u001b[0m\n",
      "\u001b[0m\u001b[0;32m--> 235 \u001b[0;31m    \u001b[0mactual_pos_preds\u001b[0m \u001b[0;34m=\u001b[0m \u001b[0mnp\u001b[0m\u001b[0;34m.\u001b[0m\u001b[0msum\u001b[0m\u001b[0;34m(\u001b[0m\u001b[0my_pred_binary\u001b[0m\u001b[0;34m[\u001b[0m\u001b[0mtarget_samples_indices\u001b[0m\u001b[0;34m]\u001b[0m\u001b[0;34m)\u001b[0m\u001b[0;34m\u001b[0m\u001b[0;34m\u001b[0m\u001b[0m\n",
      "\u001b[0m\u001b[0;32m    236 \u001b[0;31m\u001b[0;34m\u001b[0m\u001b[0m\n",
      "\u001b[0m\n",
      "ipdb> n\n",
      "> \u001b[0;32m/Users/acruz/Documents/hpt/src/hpt/evaluation.py\u001b[0m(238)\u001b[0;36mcompute_binary_predictions\u001b[0;34m()\u001b[0m\n",
      "\u001b[0;32m    237 \u001b[0;31m    \u001b[0;31m# 2. check if this number corresponds to the target\u001b[0m\u001b[0;34m\u001b[0m\u001b[0;34m\u001b[0m\u001b[0;34m\u001b[0m\u001b[0m\n",
      "\u001b[0m\u001b[0;32m--> 238 \u001b[0;31m    \u001b[0;32mif\u001b[0m \u001b[0mactual_pos_preds\u001b[0m \u001b[0;34m!=\u001b[0m \u001b[0mpositive_preds_budget\u001b[0m\u001b[0;34m:\u001b[0m\u001b[0;34m\u001b[0m\u001b[0;34m\u001b[0m\u001b[0m\n",
      "\u001b[0m\u001b[0;32m    239 \u001b[0;31m        logging.warning(\n",
      "\u001b[0m\n",
      "ipdb> n\n",
      "> \u001b[0;32m/Users/acruz/Documents/hpt/src/hpt/evaluation.py\u001b[0m(239)\u001b[0;36mcompute_binary_predictions\u001b[0;34m()\u001b[0m\n",
      "\u001b[0;32m    238 \u001b[0;31m    \u001b[0;32mif\u001b[0m \u001b[0mactual_pos_preds\u001b[0m \u001b[0;34m!=\u001b[0m \u001b[0mpositive_preds_budget\u001b[0m\u001b[0;34m:\u001b[0m\u001b[0;34m\u001b[0m\u001b[0;34m\u001b[0m\u001b[0m\n",
      "\u001b[0m\u001b[0;32m--> 239 \u001b[0;31m        logging.warning(\n",
      "\u001b[0m\u001b[0;32m    240 \u001b[0;31m            \u001b[0;34m\"Target metric for thresholding could not be met, will randomly \"\u001b[0m\u001b[0;34m\u001b[0m\u001b[0;34m\u001b[0m\u001b[0m\n",
      "\u001b[0m\n",
      "ipdb> actual_pos_preds\n",
      "12\n",
      "ipdb> positive_preds_budget\n",
      "6\n",
      "ipdb> y_pred_scores\n",
      "array([0.5, 0.5, 0.5, 0.5, 0.5, 0.5, 0.5, 0.5, 0.5, 0.5, 0.5, 0.5, 0.5,\n",
      "       0.5, 0.5, 0.5, 0.5, 0.5, 0.5, 0.5])\n",
      "ipdb> y_pred_binary\n",
      "array([1, 1, 1, 1, 1, 1, 1, 1, 1, 1, 1, 1, 1, 1, 1, 1, 1, 1, 1, 1])\n",
      "ipdb> y_true\n",
      "array([0, 0, 1, 0, 1, 0, 1, 0, 0, 1, 0, 1, 1, 1, 1, 1, 1, 0, 1, 1])\n",
      "ipdb> n\n",
      "> \u001b[0;32m/Users/acruz/Documents/hpt/src/hpt/evaluation.py\u001b[0m(240)\u001b[0;36mcompute_binary_predictions\u001b[0;34m()\u001b[0m\n",
      "\u001b[0;32m    239 \u001b[0;31m        logging.warning(\n",
      "\u001b[0m\u001b[0;32m--> 240 \u001b[0;31m            \u001b[0;34m\"Target metric for thresholding could not be met, will randomly \"\u001b[0m\u001b[0;34m\u001b[0m\u001b[0;34m\u001b[0m\u001b[0m\n",
      "\u001b[0m\u001b[0;32m    241 \u001b[0;31m            \u001b[0;34m\"untie samples with the same predicted score to fulfill target.\"\u001b[0m\u001b[0;34m\u001b[0m\u001b[0;34m\u001b[0m\u001b[0m\n",
      "\u001b[0m\n",
      "ipdb> n\n",
      "> \u001b[0;32m/Users/acruz/Documents/hpt/src/hpt/evaluation.py\u001b[0m(239)\u001b[0;36mcompute_binary_predictions\u001b[0;34m()\u001b[0m\n",
      "\u001b[0;32m    238 \u001b[0;31m    \u001b[0;32mif\u001b[0m \u001b[0mactual_pos_preds\u001b[0m \u001b[0;34m!=\u001b[0m \u001b[0mpositive_preds_budget\u001b[0m\u001b[0;34m:\u001b[0m\u001b[0;34m\u001b[0m\u001b[0;34m\u001b[0m\u001b[0m\n",
      "\u001b[0m\u001b[0;32m--> 239 \u001b[0;31m        logging.warning(\n",
      "\u001b[0m\u001b[0;32m    240 \u001b[0;31m            \u001b[0;34m\"Target metric for thresholding could not be met, will randomly \"\u001b[0m\u001b[0;34m\u001b[0m\u001b[0;34m\u001b[0m\u001b[0m\n",
      "\u001b[0m\n",
      "ipdb> n\n"
     ]
    },
    {
     "name": "stderr",
     "output_type": "stream",
     "text": [
      "WARNING:root:Target metric for thresholding could not be met, will randomly untie samples with the same predicted score to fulfill target.\n"
     ]
    },
    {
     "name": "stdout",
     "output_type": "stream",
     "text": [
      "> \u001b[0;32m/Users/acruz/Documents/hpt/src/hpt/evaluation.py\u001b[0m(244)\u001b[0;36mcompute_binary_predictions\u001b[0;34m()\u001b[0m\n",
      "\u001b[0;32m    243 \u001b[0;31m\u001b[0;34m\u001b[0m\u001b[0m\n",
      "\u001b[0m\u001b[0;32m--> 244 \u001b[0;31m        assert actual_pos_preds > positive_preds_budget, (\n",
      "\u001b[0m\u001b[0;32m    245 \u001b[0;31m            \u001b[0;34m\"Sanity check: actual number of positive predictions should always \"\u001b[0m\u001b[0;34m\u001b[0m\u001b[0;34m\u001b[0m\u001b[0m\n",
      "\u001b[0m\n",
      "ipdb> n\n",
      "> \u001b[0;32m/Users/acruz/Documents/hpt/src/hpt/evaluation.py\u001b[0m(251)\u001b[0;36mcompute_binary_predictions\u001b[0;34m()\u001b[0m\n",
      "\u001b[0;32m    250 \u001b[0;31m        \u001b[0;31m# 2.1. if target was not met, compute number of extra predicted positives\u001b[0m\u001b[0;34m\u001b[0m\u001b[0;34m\u001b[0m\u001b[0;34m\u001b[0m\u001b[0m\n",
      "\u001b[0m\u001b[0;32m--> 251 \u001b[0;31m        \u001b[0mextra_pos_preds\u001b[0m \u001b[0;34m=\u001b[0m \u001b[0mactual_pos_preds\u001b[0m \u001b[0;34m-\u001b[0m \u001b[0mpositive_preds_budget\u001b[0m\u001b[0;34m\u001b[0m\u001b[0;34m\u001b[0m\u001b[0m\n",
      "\u001b[0m\u001b[0;32m    252 \u001b[0;31m\u001b[0;34m\u001b[0m\u001b[0m\n",
      "\u001b[0m\n",
      "ipdb> n\n",
      "> \u001b[0;32m/Users/acruz/Documents/hpt/src/hpt/evaluation.py\u001b[0m(255)\u001b[0;36mcompute_binary_predictions\u001b[0;34m()\u001b[0m\n",
      "\u001b[0;32m    254 \u001b[0;31m        \u001b[0;31m# samples (either TPs or FPs or PPs) with the same score\u001b[0m\u001b[0;34m\u001b[0m\u001b[0;34m\u001b[0m\u001b[0;34m\u001b[0m\u001b[0m\n",
      "\u001b[0m\u001b[0;32m--> 255 \u001b[0;31m        \u001b[0mrng\u001b[0m \u001b[0;34m=\u001b[0m \u001b[0mnp\u001b[0m\u001b[0;34m.\u001b[0m\u001b[0mrandom\u001b[0m\u001b[0;34m.\u001b[0m\u001b[0mRandomState\u001b[0m\u001b[0;34m(\u001b[0m\u001b[0mrandom_seed\u001b[0m\u001b[0;34m)\u001b[0m\u001b[0;34m\u001b[0m\u001b[0;34m\u001b[0m\u001b[0m\n",
      "\u001b[0m\u001b[0;32m    256 \u001b[0;31m\u001b[0;34m\u001b[0m\u001b[0m\n",
      "\u001b[0m\n",
      "ipdb> extra_pos_preds\n",
      "6\n",
      "ipdb> n\n",
      "> \u001b[0;32m/Users/acruz/Documents/hpt/src/hpt/evaluation.py\u001b[0m(257)\u001b[0;36mcompute_binary_predictions\u001b[0;34m()\u001b[0m\n",
      "\u001b[0;32m    256 \u001b[0;31m\u001b[0;34m\u001b[0m\u001b[0m\n",
      "\u001b[0m\u001b[0;32m--> 257 \u001b[0;31m        \u001b[0msamples_at_target_threshold_mask\u001b[0m \u001b[0;34m=\u001b[0m \u001b[0;34m(\u001b[0m\u001b[0my_pred_scores\u001b[0m\u001b[0;34m[\u001b[0m\u001b[0my_pred_sorted_indices\u001b[0m\u001b[0;34m]\u001b[0m \u001b[0;34m==\u001b[0m \u001b[0mthreshold\u001b[0m\u001b[0;34m)\u001b[0m\u001b[0;34m\u001b[0m\u001b[0;34m\u001b[0m\u001b[0m\n",
      "\u001b[0m\u001b[0;32m    258 \u001b[0;31m\u001b[0;34m\u001b[0m\u001b[0m\n",
      "\u001b[0m\n",
      "ipdb> n\n",
      "> \u001b[0;32m/Users/acruz/Documents/hpt/src/hpt/evaluation.py\u001b[0m(260)\u001b[0;36mcompute_binary_predictions\u001b[0;34m()\u001b[0m\n",
      "\u001b[0;32m    259 \u001b[0;31m        target_samples_at_target_threshold_indices = (\n",
      "\u001b[0m\u001b[0;32m--> 260 \u001b[0;31m            y_pred_sorted_indices[\n",
      "\u001b[0m\u001b[0;32m    261 \u001b[0;31m                \u001b[0msamples_at_target_threshold_mask\u001b[0m \u001b[0;34m&\u001b[0m      \u001b[0;31m# Filter for samples at target threshold\u001b[0m\u001b[0;34m\u001b[0m\u001b[0;34m\u001b[0m\u001b[0m\n",
      "\u001b[0m\n",
      "ipdb> samples_at_target_threshold_mask\n",
      "array([ True,  True,  True,  True,  True,  True,  True,  True,  True,\n",
      "        True,  True,  True,  True,  True,  True,  True,  True,  True,\n",
      "        True,  True])\n",
      "ipdb> target_samples_mask\n",
      "array([False, False,  True,  True,  True,  True,  True,  True, False,\n",
      "        True, False, False,  True, False,  True, False,  True, False,\n",
      "        True,  True])\n",
      "ipdb> target_samples_mask & samples_at_target_threshold_mask\n",
      "array([False, False,  True,  True,  True,  True,  True,  True, False,\n",
      "        True, False, False,  True, False,  True, False,  True, False,\n",
      "        True,  True])\n",
      "ipdb> y_pred_sorted_indices\n",
      "array([ 0, 17, 16, 15, 14, 13, 12, 11, 10,  9,  8,  7,  6,  5,  4,  3,  2,\n",
      "        1, 18, 19])\n",
      "ipdb> n\n",
      "> \u001b[0;32m/Users/acruz/Documents/hpt/src/hpt/evaluation.py\u001b[0m(261)\u001b[0;36mcompute_binary_predictions\u001b[0;34m()\u001b[0m\n",
      "\u001b[0;32m    260 \u001b[0;31m            y_pred_sorted_indices[\n",
      "\u001b[0m\u001b[0;32m--> 261 \u001b[0;31m                \u001b[0msamples_at_target_threshold_mask\u001b[0m \u001b[0;34m&\u001b[0m      \u001b[0;31m# Filter for samples at target threshold\u001b[0m\u001b[0;34m\u001b[0m\u001b[0;34m\u001b[0m\u001b[0m\n",
      "\u001b[0m\u001b[0;32m    262 \u001b[0;31m                \u001b[0mtarget_samples_mask\u001b[0m                     \u001b[0;31m# Filter for relevant (target) samples\u001b[0m\u001b[0;34m\u001b[0m\u001b[0;34m\u001b[0m\u001b[0m\n",
      "\u001b[0m\n",
      "ipdb> n\n",
      "> \u001b[0;32m/Users/acruz/Documents/hpt/src/hpt/evaluation.py\u001b[0m(262)\u001b[0;36mcompute_binary_predictions\u001b[0;34m()\u001b[0m\n",
      "\u001b[0;32m    261 \u001b[0;31m                \u001b[0msamples_at_target_threshold_mask\u001b[0m \u001b[0;34m&\u001b[0m      \u001b[0;31m# Filter for samples at target threshold\u001b[0m\u001b[0;34m\u001b[0m\u001b[0;34m\u001b[0m\u001b[0m\n",
      "\u001b[0m\u001b[0;32m--> 262 \u001b[0;31m                \u001b[0mtarget_samples_mask\u001b[0m                     \u001b[0;31m# Filter for relevant (target) samples\u001b[0m\u001b[0;34m\u001b[0m\u001b[0;34m\u001b[0m\u001b[0m\n",
      "\u001b[0m\u001b[0;32m    263 \u001b[0;31m            ]\n",
      "\u001b[0m\n",
      "ipdb> n\n",
      "> \u001b[0;32m/Users/acruz/Documents/hpt/src/hpt/evaluation.py\u001b[0m(261)\u001b[0;36mcompute_binary_predictions\u001b[0;34m()\u001b[0m\n",
      "\u001b[0;32m    260 \u001b[0;31m            y_pred_sorted_indices[\n",
      "\u001b[0m\u001b[0;32m--> 261 \u001b[0;31m                \u001b[0msamples_at_target_threshold_mask\u001b[0m \u001b[0;34m&\u001b[0m      \u001b[0;31m# Filter for samples at target threshold\u001b[0m\u001b[0;34m\u001b[0m\u001b[0;34m\u001b[0m\u001b[0m\n",
      "\u001b[0m\u001b[0;32m    262 \u001b[0;31m                \u001b[0mtarget_samples_mask\u001b[0m                     \u001b[0;31m# Filter for relevant (target) samples\u001b[0m\u001b[0;34m\u001b[0m\u001b[0;34m\u001b[0m\u001b[0m\n",
      "\u001b[0m\n",
      "ipdb> n\n",
      "> \u001b[0;32m/Users/acruz/Documents/hpt/src/hpt/evaluation.py\u001b[0m(260)\u001b[0;36mcompute_binary_predictions\u001b[0;34m()\u001b[0m\n",
      "\u001b[0;32m    259 \u001b[0;31m        target_samples_at_target_threshold_indices = (\n",
      "\u001b[0m\u001b[0;32m--> 260 \u001b[0;31m            y_pred_sorted_indices[\n",
      "\u001b[0m\u001b[0;32m    261 \u001b[0;31m                \u001b[0msamples_at_target_threshold_mask\u001b[0m \u001b[0;34m&\u001b[0m      \u001b[0;31m# Filter for samples at target threshold\u001b[0m\u001b[0;34m\u001b[0m\u001b[0;34m\u001b[0m\u001b[0m\n",
      "\u001b[0m\n",
      "ipdb> n\n",
      "> \u001b[0;32m/Users/acruz/Documents/hpt/src/hpt/evaluation.py\u001b[0m(259)\u001b[0;36mcompute_binary_predictions\u001b[0;34m()\u001b[0m\n",
      "\u001b[0;32m    258 \u001b[0;31m\u001b[0;34m\u001b[0m\u001b[0m\n",
      "\u001b[0m\u001b[0;32m--> 259 \u001b[0;31m        target_samples_at_target_threshold_indices = (\n",
      "\u001b[0m\u001b[0;32m    260 \u001b[0;31m            y_pred_sorted_indices[\n",
      "\u001b[0m\n",
      "ipdb> n\n",
      "> \u001b[0;32m/Users/acruz/Documents/hpt/src/hpt/evaluation.py\u001b[0m(267)\u001b[0;36mcompute_binary_predictions\u001b[0;34m()\u001b[0m\n",
      "\u001b[0;32m    266 \u001b[0;31m        \u001b[0;31m# The extra number of positive predictions must be fully explained by this score tie\u001b[0m\u001b[0;34m\u001b[0m\u001b[0;34m\u001b[0m\u001b[0;34m\u001b[0m\u001b[0m\n",
      "\u001b[0m\u001b[0;32m--> 267 \u001b[0;31m        \u001b[0;32massert\u001b[0m \u001b[0mextra_pos_preds\u001b[0m \u001b[0;34m<\u001b[0m \u001b[0mlen\u001b[0m\u001b[0;34m(\u001b[0m\u001b[0mtarget_samples_at_target_threshold_indices\u001b[0m\u001b[0;34m)\u001b[0m\u001b[0;34m\u001b[0m\u001b[0;34m\u001b[0m\u001b[0m\n",
      "\u001b[0m\u001b[0;32m    268 \u001b[0;31m\u001b[0;34m\u001b[0m\u001b[0m\n",
      "\u001b[0m\n",
      "ipdb> target_samples_at_target_threshold_indices\n",
      "array([16, 15, 14, 13, 12, 11,  9,  6,  4,  2, 18, 19])\n",
      "ipdb> n\n",
      "> \u001b[0;32m/Users/acruz/Documents/hpt/src/hpt/evaluation.py\u001b[0m(269)\u001b[0;36mcompute_binary_predictions\u001b[0;34m()\u001b[0m\n",
      "\u001b[0;32m    268 \u001b[0;31m\u001b[0;34m\u001b[0m\u001b[0m\n",
      "\u001b[0m\u001b[0;32m--> 269 \u001b[0;31m        extra_pos_preds_indices = rng.choice(\n",
      "\u001b[0m\u001b[0;32m    270 \u001b[0;31m            \u001b[0mtarget_samples_at_target_threshold_indices\u001b[0m\u001b[0;34m,\u001b[0m\u001b[0;34m\u001b[0m\u001b[0;34m\u001b[0m\u001b[0m\n",
      "\u001b[0m\n",
      "ipdb> n\n",
      "> \u001b[0;32m/Users/acruz/Documents/hpt/src/hpt/evaluation.py\u001b[0m(270)\u001b[0;36mcompute_binary_predictions\u001b[0;34m()\u001b[0m\n",
      "\u001b[0;32m    269 \u001b[0;31m        extra_pos_preds_indices = rng.choice(\n",
      "\u001b[0m\u001b[0;32m--> 270 \u001b[0;31m            \u001b[0mtarget_samples_at_target_threshold_indices\u001b[0m\u001b[0;34m,\u001b[0m\u001b[0;34m\u001b[0m\u001b[0;34m\u001b[0m\u001b[0m\n",
      "\u001b[0m\u001b[0;32m    271 \u001b[0;31m            \u001b[0msize\u001b[0m\u001b[0;34m=\u001b[0m\u001b[0mextra_pos_preds\u001b[0m\u001b[0;34m,\u001b[0m\u001b[0;34m\u001b[0m\u001b[0;34m\u001b[0m\u001b[0m\n",
      "\u001b[0m\n",
      "ipdb> n\n",
      "> \u001b[0;32m/Users/acruz/Documents/hpt/src/hpt/evaluation.py\u001b[0m(271)\u001b[0;36mcompute_binary_predictions\u001b[0;34m()\u001b[0m\n",
      "\u001b[0;32m    270 \u001b[0;31m            \u001b[0mtarget_samples_at_target_threshold_indices\u001b[0m\u001b[0;34m,\u001b[0m\u001b[0;34m\u001b[0m\u001b[0;34m\u001b[0m\u001b[0m\n",
      "\u001b[0m\u001b[0;32m--> 271 \u001b[0;31m            \u001b[0msize\u001b[0m\u001b[0;34m=\u001b[0m\u001b[0mextra_pos_preds\u001b[0m\u001b[0;34m,\u001b[0m\u001b[0;34m\u001b[0m\u001b[0;34m\u001b[0m\u001b[0m\n",
      "\u001b[0m\u001b[0;32m    272 \u001b[0;31m            replace=False)\n",
      "\u001b[0m\n",
      "ipdb> n\n",
      "> \u001b[0;32m/Users/acruz/Documents/hpt/src/hpt/evaluation.py\u001b[0m(272)\u001b[0;36mcompute_binary_predictions\u001b[0;34m()\u001b[0m\n",
      "\u001b[0;32m    271 \u001b[0;31m            \u001b[0msize\u001b[0m\u001b[0;34m=\u001b[0m\u001b[0mextra_pos_preds\u001b[0m\u001b[0;34m,\u001b[0m\u001b[0;34m\u001b[0m\u001b[0;34m\u001b[0m\u001b[0m\n",
      "\u001b[0m\u001b[0;32m--> 272 \u001b[0;31m            replace=False)\n",
      "\u001b[0m\u001b[0;32m    273 \u001b[0;31m\u001b[0;34m\u001b[0m\u001b[0m\n",
      "\u001b[0m\n",
      "ipdb> n\n",
      "> \u001b[0;32m/Users/acruz/Documents/hpt/src/hpt/evaluation.py\u001b[0m(269)\u001b[0;36mcompute_binary_predictions\u001b[0;34m()\u001b[0m\n",
      "\u001b[0;32m    268 \u001b[0;31m\u001b[0;34m\u001b[0m\u001b[0m\n",
      "\u001b[0m\u001b[0;32m--> 269 \u001b[0;31m        extra_pos_preds_indices = rng.choice(\n",
      "\u001b[0m\u001b[0;32m    270 \u001b[0;31m            \u001b[0mtarget_samples_at_target_threshold_indices\u001b[0m\u001b[0;34m,\u001b[0m\u001b[0;34m\u001b[0m\u001b[0;34m\u001b[0m\u001b[0m\n",
      "\u001b[0m\n",
      "ipdb> n\n",
      "> \u001b[0;32m/Users/acruz/Documents/hpt/src/hpt/evaluation.py\u001b[0m(275)\u001b[0;36mcompute_binary_predictions\u001b[0;34m()\u001b[0m\n",
      "\u001b[0;32m    274 \u001b[0;31m        \u001b[0;31m# 2.3. give extra_pos_preds_indices a negative prediction\u001b[0m\u001b[0;34m\u001b[0m\u001b[0;34m\u001b[0m\u001b[0;34m\u001b[0m\u001b[0m\n",
      "\u001b[0m\u001b[0;32m--> 275 \u001b[0;31m        \u001b[0my_pred_binary\u001b[0m\u001b[0;34m[\u001b[0m\u001b[0mextra_pos_preds_indices\u001b[0m\u001b[0;34m]\u001b[0m \u001b[0;34m=\u001b[0m \u001b[0;36m0\u001b[0m\u001b[0;34m\u001b[0m\u001b[0;34m\u001b[0m\u001b[0m\n",
      "\u001b[0m\u001b[0;32m    276 \u001b[0;31m\u001b[0;34m\u001b[0m\u001b[0m\n",
      "\u001b[0m\n"
     ]
    },
    {
     "name": "stdout",
     "output_type": "stream",
     "text": [
      "ipdb> extra_pos_preds_indices\n",
      "array([18,  2, 16,  4, 11, 14])\n",
      "ipdb> y_pred_binary\n",
      "array([1, 1, 1, 1, 1, 1, 1, 1, 1, 1, 1, 1, 1, 1, 1, 1, 1, 1, 1, 1])\n",
      "ipdb> n\n",
      "> \u001b[0;32m/Users/acruz/Documents/hpt/src/hpt/evaluation.py\u001b[0m(279)\u001b[0;36mcompute_binary_predictions\u001b[0;34m()\u001b[0m\n",
      "\u001b[0;32m    278 \u001b[0;31m    \u001b[0;31m# Sanity check: the number of positive_preds_budget should now be exactly fulfilled\u001b[0m\u001b[0;34m\u001b[0m\u001b[0;34m\u001b[0m\u001b[0;34m\u001b[0m\u001b[0m\n",
      "\u001b[0m\u001b[0;32m--> 279 \u001b[0;31m    \u001b[0;32massert\u001b[0m \u001b[0mnp\u001b[0m\u001b[0;34m.\u001b[0m\u001b[0msum\u001b[0m\u001b[0;34m(\u001b[0m\u001b[0my_pred_binary\u001b[0m\u001b[0;34m[\u001b[0m\u001b[0mtarget_samples_indices\u001b[0m\u001b[0;34m]\u001b[0m\u001b[0;34m)\u001b[0m \u001b[0;34m==\u001b[0m \u001b[0mpositive_preds_budget\u001b[0m\u001b[0;34m\u001b[0m\u001b[0;34m\u001b[0m\u001b[0m\n",
      "\u001b[0m\u001b[0;32m    280 \u001b[0;31m\u001b[0;34m\u001b[0m\u001b[0m\n",
      "\u001b[0m\n",
      "ipdb> y_pred_binary\n",
      "array([1, 1, 0, 1, 0, 1, 1, 1, 1, 1, 1, 0, 1, 1, 0, 1, 0, 1, 0, 1])\n",
      "ipdb> n\n",
      "> \u001b[0;32m/Users/acruz/Documents/hpt/src/hpt/evaluation.py\u001b[0m(281)\u001b[0;36mcompute_binary_predictions\u001b[0;34m()\u001b[0m\n",
      "\u001b[0;32m    280 \u001b[0;31m\u001b[0;34m\u001b[0m\u001b[0m\n",
      "\u001b[0m\u001b[0;32m--> 281 \u001b[0;31m    \u001b[0;32mreturn\u001b[0m \u001b[0my_pred_binary\u001b[0m\u001b[0;34m\u001b[0m\u001b[0;34m\u001b[0m\u001b[0m\n",
      "\u001b[0m\u001b[0;32m    282 \u001b[0;31m\u001b[0;34m\u001b[0m\u001b[0m\n",
      "\u001b[0m\n",
      "ipdb> c\n"
     ]
    },
    {
     "name": "stderr",
     "output_type": "stream",
     "text": [
      "\u001b[33m[W 2022-11-30 13:10:59,998]\u001b[0m Trial 0 failed because of the following error: ValueError('not enough values to unpack (expected 4, got 1)')\u001b[0m\n",
      "Traceback (most recent call last):\n",
      "  File \"/Users/acruz/opt/miniconda3/envs/py3.8-hpt/lib/python3.8/site-packages/optuna/study/_optimize.py\", line 196, in _run_trial\n",
      "    value_or_values = func(trial)\n",
      "  File \"/Users/acruz/Documents/hpt/src/hpt/tuner.py\", line 210, in __call__\n",
      "    val_results = self.eval_func(\n",
      "  File \"/Users/acruz/Documents/hpt/src/hpt/tuner.py\", line 84, in evaluate_predictions\n",
      "    results.update(evaluate_fairness(\n",
      "  File \"/Users/acruz/Documents/hpt/src/hpt/evaluation.py\", line 113, in evaluate_fairness\n",
      "    curr_group_metrics = evaluate_performance(group_labels, group_preds)\n",
      "  File \"/Users/acruz/Documents/hpt/src/hpt/evaluation.py\", line 31, in evaluate_performance\n",
      "    tn, fp, fn, tp = confusion_matrix(y_true, y_pred).ravel()\n",
      "ValueError: not enough values to unpack (expected 4, got 1)\n"
     ]
    },
    {
     "ename": "ValueError",
     "evalue": "not enough values to unpack (expected 4, got 1)",
     "output_type": "error",
     "traceback": [
      "\u001b[0;31m---------------------------------------------------------------------------\u001b[0m",
      "\u001b[0;31mValueError\u001b[0m                                Traceback (most recent call last)",
      "File \u001b[0;32m<timed eval>:1\u001b[0m\n",
      "File \u001b[0;32m~/Documents/hpt/src/hpt/tuner.py:297\u001b[0m, in \u001b[0;36mOptunaTuner.optimize\u001b[0;34m(self, **kwargs)\u001b[0m\n\u001b[1;32m    296\u001b[0m \u001b[38;5;28;01mdef\u001b[39;00m \u001b[38;5;21moptimize\u001b[39m(\u001b[38;5;28mself\u001b[39m, \u001b[38;5;241m*\u001b[39m\u001b[38;5;241m*\u001b[39mkwargs):\n\u001b[0;32m--> 297\u001b[0m     \u001b[38;5;28;01mreturn\u001b[39;00m \u001b[38;5;28;43mself\u001b[39;49m\u001b[38;5;241;43m.\u001b[39;49m\u001b[43mstudy\u001b[49m\u001b[38;5;241;43m.\u001b[39;49m\u001b[43moptimize\u001b[49m\u001b[43m(\u001b[49m\n\u001b[1;32m    298\u001b[0m \u001b[43m        \u001b[49m\u001b[38;5;28;43mself\u001b[39;49m\u001b[38;5;241;43m.\u001b[39;49m\u001b[43mobjective_function\u001b[49m\u001b[43m,\u001b[49m\n\u001b[1;32m    299\u001b[0m \u001b[43m        \u001b[49m\u001b[38;5;241;43m*\u001b[39;49m\u001b[38;5;241;43m*\u001b[39;49m\u001b[43mkwargs\u001b[49m\u001b[43m,\u001b[49m\n\u001b[1;32m    300\u001b[0m \u001b[43m    \u001b[49m\u001b[43m)\u001b[49m\n",
      "File \u001b[0;32m~/opt/miniconda3/envs/py3.8-hpt/lib/python3.8/site-packages/optuna/study/study.py:419\u001b[0m, in \u001b[0;36mStudy.optimize\u001b[0;34m(self, func, n_trials, timeout, n_jobs, catch, callbacks, gc_after_trial, show_progress_bar)\u001b[0m\n\u001b[1;32m    315\u001b[0m \u001b[38;5;28;01mdef\u001b[39;00m \u001b[38;5;21moptimize\u001b[39m(\n\u001b[1;32m    316\u001b[0m     \u001b[38;5;28mself\u001b[39m,\n\u001b[1;32m    317\u001b[0m     func: ObjectiveFuncType,\n\u001b[0;32m   (...)\u001b[0m\n\u001b[1;32m    324\u001b[0m     show_progress_bar: \u001b[38;5;28mbool\u001b[39m \u001b[38;5;241m=\u001b[39m \u001b[38;5;28;01mFalse\u001b[39;00m,\n\u001b[1;32m    325\u001b[0m ) \u001b[38;5;241m-\u001b[39m\u001b[38;5;241m>\u001b[39m \u001b[38;5;28;01mNone\u001b[39;00m:\n\u001b[1;32m    326\u001b[0m     \u001b[38;5;124;03m\"\"\"Optimize an objective function.\u001b[39;00m\n\u001b[1;32m    327\u001b[0m \n\u001b[1;32m    328\u001b[0m \u001b[38;5;124;03m    Optimization is done by choosing a suitable set of hyperparameter values from a given\u001b[39;00m\n\u001b[0;32m   (...)\u001b[0m\n\u001b[1;32m    416\u001b[0m \u001b[38;5;124;03m            If nested invocation of this method occurs.\u001b[39;00m\n\u001b[1;32m    417\u001b[0m \u001b[38;5;124;03m    \"\"\"\u001b[39;00m\n\u001b[0;32m--> 419\u001b[0m     \u001b[43m_optimize\u001b[49m\u001b[43m(\u001b[49m\n\u001b[1;32m    420\u001b[0m \u001b[43m        \u001b[49m\u001b[43mstudy\u001b[49m\u001b[38;5;241;43m=\u001b[39;49m\u001b[38;5;28;43mself\u001b[39;49m\u001b[43m,\u001b[49m\n\u001b[1;32m    421\u001b[0m \u001b[43m        \u001b[49m\u001b[43mfunc\u001b[49m\u001b[38;5;241;43m=\u001b[39;49m\u001b[43mfunc\u001b[49m\u001b[43m,\u001b[49m\n\u001b[1;32m    422\u001b[0m \u001b[43m        \u001b[49m\u001b[43mn_trials\u001b[49m\u001b[38;5;241;43m=\u001b[39;49m\u001b[43mn_trials\u001b[49m\u001b[43m,\u001b[49m\n\u001b[1;32m    423\u001b[0m \u001b[43m        \u001b[49m\u001b[43mtimeout\u001b[49m\u001b[38;5;241;43m=\u001b[39;49m\u001b[43mtimeout\u001b[49m\u001b[43m,\u001b[49m\n\u001b[1;32m    424\u001b[0m \u001b[43m        \u001b[49m\u001b[43mn_jobs\u001b[49m\u001b[38;5;241;43m=\u001b[39;49m\u001b[43mn_jobs\u001b[49m\u001b[43m,\u001b[49m\n\u001b[1;32m    425\u001b[0m \u001b[43m        \u001b[49m\u001b[43mcatch\u001b[49m\u001b[38;5;241;43m=\u001b[39;49m\u001b[43mcatch\u001b[49m\u001b[43m,\u001b[49m\n\u001b[1;32m    426\u001b[0m \u001b[43m        \u001b[49m\u001b[43mcallbacks\u001b[49m\u001b[38;5;241;43m=\u001b[39;49m\u001b[43mcallbacks\u001b[49m\u001b[43m,\u001b[49m\n\u001b[1;32m    427\u001b[0m \u001b[43m        \u001b[49m\u001b[43mgc_after_trial\u001b[49m\u001b[38;5;241;43m=\u001b[39;49m\u001b[43mgc_after_trial\u001b[49m\u001b[43m,\u001b[49m\n\u001b[1;32m    428\u001b[0m \u001b[43m        \u001b[49m\u001b[43mshow_progress_bar\u001b[49m\u001b[38;5;241;43m=\u001b[39;49m\u001b[43mshow_progress_bar\u001b[49m\u001b[43m,\u001b[49m\n\u001b[1;32m    429\u001b[0m \u001b[43m    \u001b[49m\u001b[43m)\u001b[49m\n",
      "File \u001b[0;32m~/opt/miniconda3/envs/py3.8-hpt/lib/python3.8/site-packages/optuna/study/_optimize.py:66\u001b[0m, in \u001b[0;36m_optimize\u001b[0;34m(study, func, n_trials, timeout, n_jobs, catch, callbacks, gc_after_trial, show_progress_bar)\u001b[0m\n\u001b[1;32m     64\u001b[0m \u001b[38;5;28;01mtry\u001b[39;00m:\n\u001b[1;32m     65\u001b[0m     \u001b[38;5;28;01mif\u001b[39;00m n_jobs \u001b[38;5;241m==\u001b[39m \u001b[38;5;241m1\u001b[39m:\n\u001b[0;32m---> 66\u001b[0m         \u001b[43m_optimize_sequential\u001b[49m\u001b[43m(\u001b[49m\n\u001b[1;32m     67\u001b[0m \u001b[43m            \u001b[49m\u001b[43mstudy\u001b[49m\u001b[43m,\u001b[49m\n\u001b[1;32m     68\u001b[0m \u001b[43m            \u001b[49m\u001b[43mfunc\u001b[49m\u001b[43m,\u001b[49m\n\u001b[1;32m     69\u001b[0m \u001b[43m            \u001b[49m\u001b[43mn_trials\u001b[49m\u001b[43m,\u001b[49m\n\u001b[1;32m     70\u001b[0m \u001b[43m            \u001b[49m\u001b[43mtimeout\u001b[49m\u001b[43m,\u001b[49m\n\u001b[1;32m     71\u001b[0m \u001b[43m            \u001b[49m\u001b[43mcatch\u001b[49m\u001b[43m,\u001b[49m\n\u001b[1;32m     72\u001b[0m \u001b[43m            \u001b[49m\u001b[43mcallbacks\u001b[49m\u001b[43m,\u001b[49m\n\u001b[1;32m     73\u001b[0m \u001b[43m            \u001b[49m\u001b[43mgc_after_trial\u001b[49m\u001b[43m,\u001b[49m\n\u001b[1;32m     74\u001b[0m \u001b[43m            \u001b[49m\u001b[43mreseed_sampler_rng\u001b[49m\u001b[38;5;241;43m=\u001b[39;49m\u001b[38;5;28;43;01mFalse\u001b[39;49;00m\u001b[43m,\u001b[49m\n\u001b[1;32m     75\u001b[0m \u001b[43m            \u001b[49m\u001b[43mtime_start\u001b[49m\u001b[38;5;241;43m=\u001b[39;49m\u001b[38;5;28;43;01mNone\u001b[39;49;00m\u001b[43m,\u001b[49m\n\u001b[1;32m     76\u001b[0m \u001b[43m            \u001b[49m\u001b[43mprogress_bar\u001b[49m\u001b[38;5;241;43m=\u001b[39;49m\u001b[43mprogress_bar\u001b[49m\u001b[43m,\u001b[49m\n\u001b[1;32m     77\u001b[0m \u001b[43m        \u001b[49m\u001b[43m)\u001b[49m\n\u001b[1;32m     78\u001b[0m     \u001b[38;5;28;01melse\u001b[39;00m:\n\u001b[1;32m     79\u001b[0m         \u001b[38;5;28;01mif\u001b[39;00m n_jobs \u001b[38;5;241m==\u001b[39m \u001b[38;5;241m-\u001b[39m\u001b[38;5;241m1\u001b[39m:\n",
      "File \u001b[0;32m~/opt/miniconda3/envs/py3.8-hpt/lib/python3.8/site-packages/optuna/study/_optimize.py:160\u001b[0m, in \u001b[0;36m_optimize_sequential\u001b[0;34m(study, func, n_trials, timeout, catch, callbacks, gc_after_trial, reseed_sampler_rng, time_start, progress_bar)\u001b[0m\n\u001b[1;32m    157\u001b[0m         \u001b[38;5;28;01mbreak\u001b[39;00m\n\u001b[1;32m    159\u001b[0m \u001b[38;5;28;01mtry\u001b[39;00m:\n\u001b[0;32m--> 160\u001b[0m     frozen_trial \u001b[38;5;241m=\u001b[39m \u001b[43m_run_trial\u001b[49m\u001b[43m(\u001b[49m\u001b[43mstudy\u001b[49m\u001b[43m,\u001b[49m\u001b[43m \u001b[49m\u001b[43mfunc\u001b[49m\u001b[43m,\u001b[49m\u001b[43m \u001b[49m\u001b[43mcatch\u001b[49m\u001b[43m)\u001b[49m\n\u001b[1;32m    161\u001b[0m \u001b[38;5;28;01mfinally\u001b[39;00m:\n\u001b[1;32m    162\u001b[0m     \u001b[38;5;66;03m# The following line mitigates memory problems that can be occurred in some\u001b[39;00m\n\u001b[1;32m    163\u001b[0m     \u001b[38;5;66;03m# environments (e.g., services that use computing containers such as CircleCI).\u001b[39;00m\n\u001b[1;32m    164\u001b[0m     \u001b[38;5;66;03m# Please refer to the following PR for further details:\u001b[39;00m\n\u001b[1;32m    165\u001b[0m     \u001b[38;5;66;03m# https://github.com/optuna/optuna/pull/325.\u001b[39;00m\n\u001b[1;32m    166\u001b[0m     \u001b[38;5;28;01mif\u001b[39;00m gc_after_trial:\n",
      "File \u001b[0;32m~/opt/miniconda3/envs/py3.8-hpt/lib/python3.8/site-packages/optuna/study/_optimize.py:234\u001b[0m, in \u001b[0;36m_run_trial\u001b[0;34m(study, func, catch)\u001b[0m\n\u001b[1;32m    227\u001b[0m         \u001b[38;5;28;01massert\u001b[39;00m \u001b[38;5;28;01mFalse\u001b[39;00m, \u001b[38;5;124m\"\u001b[39m\u001b[38;5;124mShould not reach.\u001b[39m\u001b[38;5;124m\"\u001b[39m\n\u001b[1;32m    229\u001b[0m \u001b[38;5;28;01mif\u001b[39;00m (\n\u001b[1;32m    230\u001b[0m     frozen_trial\u001b[38;5;241m.\u001b[39mstate \u001b[38;5;241m==\u001b[39m TrialState\u001b[38;5;241m.\u001b[39mFAIL\n\u001b[1;32m    231\u001b[0m     \u001b[38;5;129;01mand\u001b[39;00m func_err \u001b[38;5;129;01mis\u001b[39;00m \u001b[38;5;129;01mnot\u001b[39;00m \u001b[38;5;28;01mNone\u001b[39;00m\n\u001b[1;32m    232\u001b[0m     \u001b[38;5;129;01mand\u001b[39;00m \u001b[38;5;129;01mnot\u001b[39;00m \u001b[38;5;28misinstance\u001b[39m(func_err, catch)\n\u001b[1;32m    233\u001b[0m ):\n\u001b[0;32m--> 234\u001b[0m     \u001b[38;5;28;01mraise\u001b[39;00m func_err\n\u001b[1;32m    235\u001b[0m \u001b[38;5;28;01mreturn\u001b[39;00m frozen_trial\n",
      "File \u001b[0;32m~/opt/miniconda3/envs/py3.8-hpt/lib/python3.8/site-packages/optuna/study/_optimize.py:196\u001b[0m, in \u001b[0;36m_run_trial\u001b[0;34m(study, func, catch)\u001b[0m\n\u001b[1;32m    194\u001b[0m \u001b[38;5;28;01mwith\u001b[39;00m get_heartbeat_thread(trial\u001b[38;5;241m.\u001b[39m_trial_id, study\u001b[38;5;241m.\u001b[39m_storage):\n\u001b[1;32m    195\u001b[0m     \u001b[38;5;28;01mtry\u001b[39;00m:\n\u001b[0;32m--> 196\u001b[0m         value_or_values \u001b[38;5;241m=\u001b[39m \u001b[43mfunc\u001b[49m\u001b[43m(\u001b[49m\u001b[43mtrial\u001b[49m\u001b[43m)\u001b[49m\n\u001b[1;32m    197\u001b[0m     \u001b[38;5;28;01mexcept\u001b[39;00m exceptions\u001b[38;5;241m.\u001b[39mTrialPruned \u001b[38;5;28;01mas\u001b[39;00m e:\n\u001b[1;32m    198\u001b[0m         \u001b[38;5;66;03m# TODO(mamu): Handle multi-objective cases.\u001b[39;00m\n\u001b[1;32m    199\u001b[0m         state \u001b[38;5;241m=\u001b[39m TrialState\u001b[38;5;241m.\u001b[39mPRUNED\n",
      "File \u001b[0;32m~/Documents/hpt/src/hpt/tuner.py:210\u001b[0m, in \u001b[0;36mObjectiveFunction.__call__\u001b[0;34m(self, trial)\u001b[0m\n\u001b[1;32m    207\u001b[0m     y_val_pred_scores \u001b[38;5;241m=\u001b[39m y_val_pred_scores[:, \u001b[38;5;241m-\u001b[39m\u001b[38;5;241m1\u001b[39m]\n\u001b[1;32m    209\u001b[0m \u001b[38;5;66;03m# Evaluate validation predictions\u001b[39;00m\n\u001b[0;32m--> 210\u001b[0m val_results \u001b[38;5;241m=\u001b[39m \u001b[38;5;28;43mself\u001b[39;49m\u001b[38;5;241;43m.\u001b[39;49m\u001b[43meval_func\u001b[49m\u001b[43m(\u001b[49m\n\u001b[1;32m    211\u001b[0m \u001b[43m    \u001b[49m\u001b[38;5;28;43mself\u001b[39;49m\u001b[38;5;241;43m.\u001b[39;49m\u001b[43my_val\u001b[49m\u001b[43m,\u001b[49m\u001b[43m \u001b[49m\u001b[43my_val_pred_scores\u001b[49m\u001b[43m,\u001b[49m\n\u001b[1;32m    212\u001b[0m \u001b[43m    \u001b[49m\u001b[43msensitive_attribute\u001b[49m\u001b[38;5;241;43m=\u001b[39;49m\u001b[38;5;28;43mself\u001b[39;49m\u001b[38;5;241;43m.\u001b[39;49m\u001b[43ms_val\u001b[49m\u001b[43m,\u001b[49m\n\u001b[1;32m    213\u001b[0m \u001b[43m\u001b[49m\u001b[43m)\u001b[49m\n\u001b[1;32m    215\u001b[0m \u001b[38;5;66;03m# Store trial's results\u001b[39;00m\n\u001b[1;32m    216\u001b[0m \u001b[38;5;28mself\u001b[39m\u001b[38;5;241m.\u001b[39m_models_results\u001b[38;5;241m.\u001b[39mappend(\n\u001b[1;32m    217\u001b[0m     \u001b[38;5;28mself\u001b[39m\u001b[38;5;241m.\u001b[39mTrialResults(hyperparams, val_results, model\u001b[38;5;241m=\u001b[39mmodel))\n",
      "File \u001b[0;32m~/Documents/hpt/src/hpt/tuner.py:84\u001b[0m, in \u001b[0;36mObjectiveFunction.evaluate_predictions\u001b[0;34m(y_true, y_pred_scores, sensitive_attribute, **threshold_target)\u001b[0m\n\u001b[1;32m     82\u001b[0m \u001b[38;5;66;03m# (Optionally) Compute fairness metrics\u001b[39;00m\n\u001b[1;32m     83\u001b[0m \u001b[38;5;28;01mif\u001b[39;00m sensitive_attribute \u001b[38;5;129;01mis\u001b[39;00m \u001b[38;5;129;01mnot\u001b[39;00m \u001b[38;5;28;01mNone\u001b[39;00m:\n\u001b[0;32m---> 84\u001b[0m     results\u001b[38;5;241m.\u001b[39mupdate(\u001b[43mevaluate_fairness\u001b[49m\u001b[43m(\u001b[49m\n\u001b[1;32m     85\u001b[0m \u001b[43m        \u001b[49m\u001b[43my_true\u001b[49m\u001b[43m,\u001b[49m\u001b[43m \u001b[49m\u001b[43my_pred_binary\u001b[49m\u001b[43m,\u001b[49m\u001b[43m \u001b[49m\u001b[43msensitive_attribute\u001b[49m\u001b[43m,\u001b[49m\n\u001b[1;32m     86\u001b[0m \u001b[43m        \u001b[49m\u001b[43mreturn_groupwise_metrics\u001b[49m\u001b[38;5;241;43m=\u001b[39;49m\u001b[38;5;28;43;01mFalse\u001b[39;49;00m\u001b[43m,\u001b[49m\n\u001b[1;32m     87\u001b[0m \u001b[43m    \u001b[49m\u001b[43m)\u001b[49m)\n\u001b[1;32m     89\u001b[0m \u001b[38;5;28;01mreturn\u001b[39;00m results\n",
      "File \u001b[0;32m~/Documents/hpt/src/hpt/evaluation.py:113\u001b[0m, in \u001b[0;36mevaluate_fairness\u001b[0;34m(y_true, y_pred, sensitive_attribute, return_groupwise_metrics)\u001b[0m\n\u001b[1;32m    110\u001b[0m group_preds \u001b[38;5;241m=\u001b[39m y_pred[group_indices]\n\u001b[1;32m    112\u001b[0m \u001b[38;5;66;03m# Evaluate group-wise performance\u001b[39;00m\n\u001b[0;32m--> 113\u001b[0m curr_group_metrics \u001b[38;5;241m=\u001b[39m \u001b[43mevaluate_performance\u001b[49m\u001b[43m(\u001b[49m\u001b[43mgroup_labels\u001b[49m\u001b[43m,\u001b[49m\u001b[43m \u001b[49m\u001b[43mgroup_preds\u001b[49m\u001b[43m)\u001b[49m\n\u001b[1;32m    115\u001b[0m \u001b[38;5;66;03m# Add group-wise metrics to the dictionary\u001b[39;00m\n\u001b[1;32m    116\u001b[0m groupwise_metrics\u001b[38;5;241m.\u001b[39mupdate({\n\u001b[1;32m    117\u001b[0m     group_metric_name(metric_name, s_value): metric_value\n\u001b[1;32m    118\u001b[0m     \u001b[38;5;28;01mfor\u001b[39;00m metric_name, metric_value \u001b[38;5;129;01min\u001b[39;00m curr_group_metrics\u001b[38;5;241m.\u001b[39mitems()\n\u001b[1;32m    119\u001b[0m })\n",
      "File \u001b[0;32m~/Documents/hpt/src/hpt/evaluation.py:31\u001b[0m, in \u001b[0;36mevaluate_performance\u001b[0;34m(y_true, y_pred)\u001b[0m\n\u001b[1;32m     14\u001b[0m \u001b[38;5;124;03m\"\"\"Evaluates the provided predictions on common performance metrics.\u001b[39;00m\n\u001b[1;32m     15\u001b[0m \u001b[38;5;124;03mNOTE: currently assumes labels and predictions are binary - should we extend\u001b[39;00m\n\u001b[1;32m     16\u001b[0m \u001b[38;5;124;03mit to multi-class labels?\u001b[39;00m\n\u001b[0;32m   (...)\u001b[0m\n\u001b[1;32m     28\u001b[0m \u001b[38;5;124;03m    A dictionary with key-value pairs of (metric name, metric value).\u001b[39;00m\n\u001b[1;32m     29\u001b[0m \u001b[38;5;124;03m\"\"\"\u001b[39;00m\n\u001b[1;32m     30\u001b[0m \u001b[38;5;66;03m# Compute confusion matrix\u001b[39;00m\n\u001b[0;32m---> 31\u001b[0m tn, fp, fn, tp \u001b[38;5;241m=\u001b[39m confusion_matrix(y_true, y_pred)\u001b[38;5;241m.\u001b[39mravel()\n\u001b[1;32m     33\u001b[0m total \u001b[38;5;241m=\u001b[39m tn \u001b[38;5;241m+\u001b[39m fp \u001b[38;5;241m+\u001b[39m fn \u001b[38;5;241m+\u001b[39m tp\n\u001b[1;32m     34\u001b[0m pred_pos \u001b[38;5;241m=\u001b[39m tp \u001b[38;5;241m+\u001b[39m fp\n",
      "\u001b[0;31mValueError\u001b[0m: not enough values to unpack (expected 4, got 1)"
     ]
    }
   ],
   "source": [
    "%%time\n",
    "tuner.optimize(n_trials=10) #, show_progress_bar=True, n_jobs=4)"
   ]
  },
  {
   "cell_type": "code",
   "execution_count": 8,
   "id": "cd0a7ba1",
   "metadata": {},
   "outputs": [
    {
     "data": {
      "image/png": "[encoded data removed]",
      "text/plain": [
       "<Figure size 640x480 with 1 Axes>"
      ]
     },
     "metadata": {},
     "output_type": "display_data"
    }
   ],
   "source": [
    "tuner.objective_function.plot(y_axis=\"fpr_ratio\", pyplot_show=False, hue=\"algorithm\")"
   ]
  },
  {
   "cell_type": "code",
   "execution_count": null,
   "id": "9e1c2394",
   "metadata": {},
   "outputs": [],
   "source": []
  }
 ],
 "metadata": {
  "kernelspec": {
   "display_name": "Python 3 (ipykernel)",
   "language": "python",
   "name": "python3"
  },
  "language_info": {
   "codemirror_mode": {
    "name": "ipython",
    "version": 3
   },
   "file_extension": ".py",
   "mimetype": "text/x-python",
   "name": "python",
   "nbconvert_exporter": "python",
   "pygments_lexer": "ipython3",
   "version": "3.8.15"
  },
  "vscode": {
   "interpreter": {
    "hash": "b05ff64819953bb2a0207fe2e27d7330beba543526246adc2ec3c781cbfbcd0f"
   }
  }
 },
 "nbformat": 4,
 "nbformat_minor": 5
}
